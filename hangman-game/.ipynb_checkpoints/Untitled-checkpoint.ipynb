{
 "cells": [
  {
   "cell_type": "code",
   "execution_count": 121,
   "id": "3d3ccbe7-5962-4bc5-b6cf-0293f6e9bf33",
   "metadata": {},
   "outputs": [],
   "source": [
    "word ='apple'"
   ]
  },
  {
   "cell_type": "code",
   "execution_count": 122,
   "id": "bcf13a0f-4e1d-40e0-87d6-69b58771044e",
   "metadata": {},
   "outputs": [
    {
     "name": "stdout",
     "output_type": "stream",
     "text": [
      "['-', '-', '-', '-', '-']\n"
     ]
    }
   ],
   "source": [
    "life = 6\n",
    "l = ['-'] * len(word)\n",
    "print(l)"
   ]
  },
  {
   "cell_type": "code",
   "execution_count": 123,
   "id": "53e544dc-5de8-401a-93b3-a5d8c87a2c26",
   "metadata": {},
   "outputs": [
    {
     "name": "stdin",
     "output_type": "stream",
     "text": [
      "guess letter: e\n"
     ]
    }
   ],
   "source": [
    "guess = input('guess letter:')\n",
    "\n",
    "    "
   ]
  },
  {
   "cell_type": "code",
   "execution_count": 117,
   "id": "935caf1b-d371-4c02-95e1-57f43c35f6a8",
   "metadata": {},
   "outputs": [
    {
     "name": "stdout",
     "output_type": "stream",
     "text": [
      "appl-\n"
     ]
    }
   ],
   "source": [
    "# guess = 'e'\n",
    "# if guess in word :\n",
    "#     word = word.replace(guess,'-')\n",
    "#     print(word)\n",
    "\n",
    "# else : print(word)"
   ]
  },
  {
   "cell_type": "code",
   "execution_count": 124,
   "id": "02efef5a-3713-45a2-b387-44950a414a2c",
   "metadata": {},
   "outputs": [
    {
     "name": "stdout",
     "output_type": "stream",
     "text": [
      "['-', '-', '-', '-', 'e']\n"
     ]
    }
   ],
   "source": [
    "if guess in word:\n",
    "    for i in range(len(word)):\n",
    "        if word[i] == guess:\n",
    "            l[i] = guess\n",
    "    print(l)"
   ]
  },
  {
   "cell_type": "code",
   "execution_count": null,
   "id": "a7c2faec-b2e4-4059-81a0-c6a60de2175e",
   "metadata": {},
   "outputs": [],
   "source": [
    "if guess not in word:\n",
    "    life = life - 1\n",
    "\n",
    "    "
   ]
  },
  {
   "cell_type": "code",
   "execution_count": 20,
   "id": "379d48e6-4909-4ab0-a532-c5fea7e88a1d",
   "metadata": {},
   "outputs": [
    {
     "name": "stdin",
     "output_type": "stream",
     "text": [
      "\n",
      "guess the letter: a\n"
     ]
    },
    {
     "name": "stdout",
     "output_type": "stream",
     "text": [
      "\n",
      " apple\n",
      "\n",
      " ['a', '-', '-', '-', '-']\n",
      "\n",
      " remaining life is :  6\n"
     ]
    },
    {
     "name": "stdin",
     "output_type": "stream",
     "text": [
      "\n",
      "guess the letter: p\n"
     ]
    },
    {
     "name": "stdout",
     "output_type": "stream",
     "text": [
      "\n",
      " apple\n",
      "\n",
      " apple\n",
      "\n",
      " ['a', 'p', 'p', '-', '-']\n",
      "\n",
      " remaining life is :  6\n"
     ]
    },
    {
     "name": "stdin",
     "output_type": "stream",
     "text": [
      "\n",
      "guess the letter: p\n"
     ]
    },
    {
     "name": "stdout",
     "output_type": "stream",
     "text": [
      "\n",
      " apple\n",
      "\n",
      " apple\n",
      "\n",
      " ['a', 'p', 'p', '-', '-']\n",
      "\n",
      " remaining life is :  6\n"
     ]
    },
    {
     "name": "stdin",
     "output_type": "stream",
     "text": [
      "\n",
      "guess the letter: l\n"
     ]
    },
    {
     "name": "stdout",
     "output_type": "stream",
     "text": [
      "\n",
      " apple\n",
      "\n",
      " ['a', 'p', 'p', 'l', '-']\n",
      "\n",
      " remaining life is :  6\n"
     ]
    },
    {
     "name": "stdin",
     "output_type": "stream",
     "text": [
      "\n",
      "guess the letter: e\n"
     ]
    },
    {
     "name": "stdout",
     "output_type": "stream",
     "text": [
      "\n",
      " apple\n",
      "\n",
      " ['a', 'p', 'p', 'l', 'e']\n",
      "\n",
      " remaining life is :  6\n",
      "\n",
      " End of Game ! \n",
      "\n",
      " ['a', 'p', 'p', 'l', 'e']\n",
      "\n",
      "you win\n"
     ]
    }
   ],
   "source": [
    "word = 'apple'\n",
    "l=['-'] * len(word)\n",
    "life = 6\n",
    "\n",
    "length = len(word)\n",
    "\n",
    "while '-' in l and life !=0:\n",
    "    guess = input('\\nguess the letter:')\n",
    "\n",
    "    if guess not in word:\n",
    "        life = life -1\n",
    "        print ('\\n remaining life is :' ,life)\n",
    "        \n",
    "\n",
    "    if guess in word:\n",
    "        for i in range(length):\n",
    "            if word[i] == guess:\n",
    "                l[i] = guess\n",
    "                word = word.replace(guess , '-',1)\n",
    "                print('\\n',word)\n",
    "\n",
    "                \n",
    "        print('\\n',l)\n",
    "        print(\"\\n remaining life is : \" ,life)\n",
    "\n",
    "print('\\n End of Game ! ')\n",
    "\n",
    "if life == 0 :\n",
    "    print('\\n',l)\n",
    "    print('\\nyou lose')\n",
    "\n",
    "else : print('\\n',l); print('\\nyou win')\n",
    "\n",
    "    "
   ]
  },
  {
   "cell_type": "code",
   "execution_count": null,
   "id": "708c25f4-5379-4df3-a529-6049d7418982",
   "metadata": {},
   "outputs": [],
   "source": []
  }
 ],
 "metadata": {
  "kernelspec": {
   "display_name": "Python 3 (ipykernel)",
   "language": "python",
   "name": "python3"
  },
  "language_info": {
   "codemirror_mode": {
    "name": "ipython",
    "version": 3
   },
   "file_extension": ".py",
   "mimetype": "text/x-python",
   "name": "python",
   "nbconvert_exporter": "python",
   "pygments_lexer": "ipython3",
   "version": "3.12.11"
  }
 },
 "nbformat": 4,
 "nbformat_minor": 5
}
